{
 "cells": [
  {
   "cell_type": "code",
   "execution_count": 1,
   "metadata": {},
   "outputs": [],
   "source": [
    "from pyvis.network import Network"
   ]
  },
  {
   "cell_type": "code",
   "execution_count": 2,
   "metadata": {},
   "outputs": [],
   "source": [
    "net= Network(height=\"100%abs\", width=\"100%\", bgcolor=\"#222222\", font_color=\"white\", directed=True)"
   ]
  },
  {
   "cell_type": "code",
   "execution_count": 3,
   "metadata": {},
   "outputs": [],
   "source": [
    "net.barnes_hut(spring_length=150)"
   ]
  },
  {
   "cell_type": "code",
   "execution_count": 4,
   "metadata": {},
   "outputs": [],
   "source": [
    "import pandas as pd"
   ]
  },
  {
   "cell_type": "code",
   "execution_count": 5,
   "metadata": {},
   "outputs": [],
   "source": [
    "data= pd.read_csv(r\"C:\\Users\\Sunnation\\Desktop\\Network Viz\\courses.csv\")"
   ]
  },
  {
   "cell_type": "code",
   "execution_count": 6,
   "metadata": {},
   "outputs": [
    {
     "data": {
      "text/html": [
       "<div>\n",
       "<style scoped>\n",
       "    .dataframe tbody tr th:only-of-type {\n",
       "        vertical-align: middle;\n",
       "    }\n",
       "\n",
       "    .dataframe tbody tr th {\n",
       "        vertical-align: top;\n",
       "    }\n",
       "\n",
       "    .dataframe thead th {\n",
       "        text-align: right;\n",
       "    }\n",
       "</style>\n",
       "<table border=\"1\" class=\"dataframe\">\n",
       "  <thead>\n",
       "    <tr style=\"text-align: right;\">\n",
       "      <th></th>\n",
       "      <th>Sources</th>\n",
       "      <th>Targets</th>\n",
       "      <th>Weights</th>\n",
       "      <th>Color</th>\n",
       "    </tr>\n",
       "  </thead>\n",
       "  <tbody>\n",
       "    <tr>\n",
       "      <th>0</th>\n",
       "      <td>Math-101</td>\n",
       "      <td>CIS 150. Visual Computer Programming for Business</td>\n",
       "      <td>5</td>\n",
       "      <td>Yellow</td>\n",
       "    </tr>\n",
       "    <tr>\n",
       "      <th>1</th>\n",
       "      <td>CMPS-101</td>\n",
       "      <td>CIS 231. Management Information Systems</td>\n",
       "      <td>5</td>\n",
       "      <td>Yellow</td>\n",
       "    </tr>\n",
       "    <tr>\n",
       "      <th>2</th>\n",
       "      <td>OIS-200</td>\n",
       "      <td>CIS 231. Management Information Systems</td>\n",
       "      <td>5</td>\n",
       "      <td>Yellow</td>\n",
       "    </tr>\n",
       "    <tr>\n",
       "      <th>3</th>\n",
       "      <td>CIS 150. Visual Computer Programming for Business</td>\n",
       "      <td>CIS 255. Programming for Business Applications</td>\n",
       "      <td>10</td>\n",
       "      <td>Red</td>\n",
       "    </tr>\n",
       "    <tr>\n",
       "      <th>4</th>\n",
       "      <td>CIS 231. Management Information Systems</td>\n",
       "      <td>CIS 310. Data Communications</td>\n",
       "      <td>10</td>\n",
       "      <td>Red</td>\n",
       "    </tr>\n",
       "  </tbody>\n",
       "</table>\n",
       "</div>"
      ],
      "text/plain": [
       "                                             Sources  \\\n",
       "0                                           Math-101   \n",
       "1                                           CMPS-101   \n",
       "2                                            OIS-200   \n",
       "3  CIS 150. Visual Computer Programming for Business   \n",
       "4            CIS 231. Management Information Systems   \n",
       "\n",
       "                                             Targets  Weights   Color  \n",
       "0  CIS 150. Visual Computer Programming for Business        5  Yellow  \n",
       "1            CIS 231. Management Information Systems        5  Yellow  \n",
       "2            CIS 231. Management Information Systems        5  Yellow  \n",
       "3     CIS 255. Programming for Business Applications       10     Red  \n",
       "4                       CIS 310. Data Communications       10     Red  "
      ]
     },
     "execution_count": 6,
     "metadata": {},
     "output_type": "execute_result"
    }
   ],
   "source": [
    "data.head()"
   ]
  },
  {
   "cell_type": "code",
   "execution_count": 7,
   "metadata": {},
   "outputs": [],
   "source": [
    "sources = data['Sources']\n",
    "targets = data['Targets']\n",
    "weights = data['Weights']\n",
    "colors= data['Color']"
   ]
  },
  {
   "cell_type": "code",
   "execution_count": 9,
   "metadata": {},
   "outputs": [],
   "source": [
    "edge_data = zip(sources, targets, weights, colors)"
   ]
  },
  {
   "cell_type": "code",
   "execution_count": 10,
   "metadata": {},
   "outputs": [],
   "source": [
    "for e in edge_data:\n",
    "    src = e[0]\n",
    "    dst = e[1]\n",
    "    w = e[2]\n",
    "    col=e[3]\n",
    "\n",
    "    net.add_node(src, src, title=src, shape='star',color='red')\n",
    "    net.add_node(dst, dst, title=dst)\n",
    "    net.add_edge(src, dst, value=w)"
   ]
  },
  {
   "cell_type": "code",
   "execution_count": 11,
   "metadata": {},
   "outputs": [],
   "source": [
    "net.toggle_physics(status=True)\n",
    "net.show('net.html')"
   ]
  }
 ],
 "metadata": {
  "kernelspec": {
   "display_name": "Python 3",
   "language": "python",
   "name": "python3"
  },
  "language_info": {
   "codemirror_mode": {
    "name": "ipython",
    "version": 3
   },
   "file_extension": ".py",
   "mimetype": "text/x-python",
   "name": "python",
   "nbconvert_exporter": "python",
   "pygments_lexer": "ipython3",
   "version": "3.7.6"
  }
 },
 "nbformat": 4,
 "nbformat_minor": 4
}
